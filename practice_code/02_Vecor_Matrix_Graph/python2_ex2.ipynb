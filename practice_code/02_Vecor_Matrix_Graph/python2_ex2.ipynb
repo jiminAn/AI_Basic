{
 "cells": [
  {
   "cell_type": "markdown",
   "metadata": {},
   "source": [
    "# 벡터, 행렬 연산, 그래프 그리기\n",
    "## 텐서란?\n",
    "- 다차원 배열을 일반화한 것\n",
    "- Scalar, vector, matrix 등이 포함됨\n",
    "\n",
    "## 랭크란?\n",
    "- 텐서의 차원\n",
    "- Rank 0 tensor : Scalar\n",
    "- Rank 1 tensor : Vector\n",
    "- Rank 2 tensor : Matrix\n",
    "- Rank n tensor"
   ]
  },
  {
   "cell_type": "markdown",
   "metadata": {},
   "source": [
    "# 1. Vector\n"
   ]
  },
  {
   "cell_type": "code",
   "execution_count": 3,
   "metadata": {},
   "outputs": [],
   "source": [
    "import numpy as np"
   ]
  },
  {
   "cell_type": "code",
   "execution_count": 7,
   "metadata": {},
   "outputs": [],
   "source": [
    "def print_val(x):\n",
    "    print 'Type: ', type(x)\n",
    "    print 'Shape: ', x.shape\n",
    "    print 'Value: \\n', x\n",
    "    print ' '"
   ]
  },
  {
   "cell_type": "markdown",
   "metadata": {},
   "source": [
    "## rank 1 np array"
   ]
  },
  {
   "cell_type": "code",
   "execution_count": 8,
   "metadata": {},
   "outputs": [
    {
     "name": "stdout",
     "output_type": "stream",
     "text": [
      "Type:  <type 'numpy.ndarray'>\n",
      "Shape:  (3,)\n",
      "Value: \n",
      "[1 2 3]\n",
      " \n",
      "Type:  <type 'numpy.ndarray'>\n",
      "Shape:  (3,)\n",
      "Value: \n",
      "[5 2 3]\n",
      " \n"
     ]
    }
   ],
   "source": [
    "x = np.array([1,2,3])\n",
    "print_val(x)\n",
    "\n",
    "x[0] = 5\n",
    "print_val(x)"
   ]
  },
  {
   "cell_type": "markdown",
   "metadata": {},
   "source": [
    "## rank 2 np array"
   ]
  },
  {
   "cell_type": "code",
   "execution_count": 9,
   "metadata": {},
   "outputs": [
    {
     "name": "stdout",
     "output_type": "stream",
     "text": [
      "Type:  <type 'numpy.ndarray'>\n",
      "Shape:  (2, 3)\n",
      "Value: \n",
      "[[1 2 3]\n",
      " [4 5 6]]\n",
      " \n"
     ]
    }
   ],
   "source": [
    "y = np.array([[1,2,3],[4,5,6]])\n",
    "print_val(y)"
   ]
  },
  {
   "cell_type": "markdown",
   "metadata": {},
   "source": [
    "## rank 2 ones"
   ]
  },
  {
   "cell_type": "code",
   "execution_count": 10,
   "metadata": {},
   "outputs": [
    {
     "name": "stdout",
     "output_type": "stream",
     "text": [
      "Type:  <type 'numpy.ndarray'>\n",
      "Shape:  (3, 2)\n",
      "Value: \n",
      "[[1. 1.]\n",
      " [1. 1.]\n",
      " [1. 1.]]\n",
      " \n"
     ]
    }
   ],
   "source": [
    "a = np.ones((3,2)) #initialize to 1\n",
    "print_val(a)"
   ]
  },
  {
   "cell_type": "markdown",
   "metadata": {},
   "source": [
    "## rank 2 zeros"
   ]
  },
  {
   "cell_type": "code",
   "execution_count": 12,
   "metadata": {},
   "outputs": [
    {
     "name": "stdout",
     "output_type": "stream",
     "text": [
      "Type:  <type 'numpy.ndarray'>\n",
      "Shape:  (2, 2)\n",
      "Value: \n",
      "[[0. 0.]\n",
      " [0. 0.]]\n",
      " \n"
     ]
    }
   ],
   "source": [
    "a = np.zeros((2,2)) #initialize to 0 \n",
    "print_val(a)"
   ]
  },
  {
   "cell_type": "markdown",
   "metadata": {},
   "source": [
    "## rank2 indentity matrix"
   ]
  },
  {
   "cell_type": "code",
   "execution_count": 13,
   "metadata": {},
   "outputs": [
    {
     "name": "stdout",
     "output_type": "stream",
     "text": [
      "Type:  <type 'numpy.ndarray'>\n",
      "Shape:  (3, 3)\n",
      "Value: \n",
      "[[1. 0. 0.]\n",
      " [0. 1. 0.]\n",
      " [0. 0. 1.]]\n",
      " \n"
     ]
    }
   ],
   "source": [
    "a = np.eye(3,3)\n",
    "print_val(a)"
   ]
  },
  {
   "cell_type": "markdown",
   "metadata": {},
   "source": [
    "## random matrix(uniform : All values in between 0 to 1 equal the same probability)"
   ]
  },
  {
   "cell_type": "code",
   "execution_count": 14,
   "metadata": {},
   "outputs": [
    {
     "name": "stdout",
     "output_type": "stream",
     "text": [
      "Type:  <type 'numpy.ndarray'>\n",
      "Shape:  (4, 4)\n",
      "Value: \n",
      "[[0.26580335 0.58081077 0.8576369  0.36311851]\n",
      " [0.46866771 0.41681645 0.81736251 0.13979533]\n",
      " [0.56201442 0.67113735 0.54579001 0.12078092]\n",
      " [0.55574725 0.11590535 0.4519251  0.44775102]]\n",
      " \n"
     ]
    }
   ],
   "source": [
    "a = np.random.random((4,4))\n",
    "print_val(a)"
   ]
  },
  {
   "cell_type": "markdown",
   "metadata": {},
   "source": [
    "## random matrix(Gaussian : random value that follows a gaussian distribution(mean is ZERO)"
   ]
  },
  {
   "cell_type": "code",
   "execution_count": 16,
   "metadata": {},
   "outputs": [
    {
     "name": "stdout",
     "output_type": "stream",
     "text": [
      "Type:  <type 'numpy.ndarray'>\n",
      "Shape:  (4, 4)\n",
      "Value: \n",
      "[[ 0.20869036  1.25908539  0.08036969 -0.47119273]\n",
      " [-0.45298478 -0.21288724  1.99877272  0.66422718]\n",
      " [-0.18148981  0.50548952  0.15257642  0.27812365]\n",
      " [ 1.05628345 -0.8103116  -0.18995206  1.20399869]]\n",
      " \n"
     ]
    }
   ],
   "source": [
    "a = np.random.randn(4,4)\n",
    "print_val(a)"
   ]
  },
  {
   "cell_type": "markdown",
   "metadata": {},
   "source": [
    "## np array indexing"
   ]
  },
  {
   "cell_type": "code",
   "execution_count": 17,
   "metadata": {},
   "outputs": [
    {
     "name": "stdout",
     "output_type": "stream",
     "text": [
      "Type:  <type 'numpy.ndarray'>\n",
      "Shape:  (3, 4)\n",
      "Value: \n",
      "[[ 1  2  3  4]\n",
      " [ 5  6  7  8]\n",
      " [ 9 10 11 12]]\n",
      " \n"
     ]
    }
   ],
   "source": [
    "a = np.array([[1,2,3,4],[5,6,7,8],[9,10,11,12]])\n",
    "print_val(a)"
   ]
  },
  {
   "cell_type": "code",
   "execution_count": 18,
   "metadata": {},
   "outputs": [
    {
     "name": "stdout",
     "output_type": "stream",
     "text": [
      "Type:  <type 'numpy.ndarray'>\n",
      "Shape:  (2, 2)\n",
      "Value: \n",
      "[[2 3]\n",
      " [6 7]]\n",
      " \n"
     ]
    }
   ],
   "source": [
    "b = a[:2, 1:3] # row  0~1 column 1~2\n",
    "print_val(b)"
   ]
  },
  {
   "cell_type": "markdown",
   "metadata": {},
   "source": [
    "## get the N row in matrix"
   ]
  },
  {
   "cell_type": "code",
   "execution_count": 19,
   "metadata": {},
   "outputs": [
    {
     "name": "stdout",
     "output_type": "stream",
     "text": [
      "Type:  <type 'numpy.ndarray'>\n",
      "Shape:  (4,)\n",
      "Value: \n",
      "[5 6 7 8]\n",
      " \n"
     ]
    }
   ],
   "source": [
    "row1 = a[1, :] # the 1st row\n",
    "print_val(row1)"
   ]
  },
  {
   "cell_type": "markdown",
   "metadata": {},
   "source": [
    "# 2. Matrix Operation\n",
    "## Elementwise Opration"
   ]
  },
  {
   "cell_type": "code",
   "execution_count": 21,
   "metadata": {},
   "outputs": [
    {
     "name": "stdout",
     "output_type": "stream",
     "text": [
      "Type:  <type 'numpy.ndarray'>\n",
      "Shape:  (2, 2)\n",
      "Value: \n",
      "[[ 6.  8.]\n",
      " [10. 12.]]\n",
      " \n",
      "Type:  <type 'numpy.ndarray'>\n",
      "Shape:  (2, 2)\n",
      "Value: \n",
      "[[ 6.  8.]\n",
      " [10. 12.]]\n",
      " \n"
     ]
    }
   ],
   "source": [
    "m1 = np.array([[1,2], [3,4]] , dtype = np.float64)\n",
    "m2 = np.array([[5,6], [7,8]] , dtype = np.float64)\n",
    "\n",
    "# elementwise sum\n",
    "print_val(m1 + m2)\n",
    "print_val(np.add(m1,m2))"
   ]
  },
  {
   "cell_type": "code",
   "execution_count": 22,
   "metadata": {},
   "outputs": [
    {
     "name": "stdout",
     "output_type": "stream",
     "text": [
      "Type:  <type 'numpy.ndarray'>\n",
      "Shape:  (2, 2)\n",
      "Value: \n",
      "[[-4. -4.]\n",
      " [-4. -4.]]\n",
      " \n",
      "Type:  <type 'numpy.ndarray'>\n",
      "Shape:  (2, 2)\n",
      "Value: \n",
      "[[-4. -4.]\n",
      " [-4. -4.]]\n",
      " \n"
     ]
    }
   ],
   "source": [
    "# elementwise difference\n",
    "print_val(m1 - m2)\n",
    "print_val(np.subtract(m1,m2))"
   ]
  },
  {
   "cell_type": "code",
   "execution_count": 23,
   "metadata": {},
   "outputs": [
    {
     "name": "stdout",
     "output_type": "stream",
     "text": [
      "Type:  <type 'numpy.ndarray'>\n",
      "Shape:  (2, 2)\n",
      "Value: \n",
      "[[ 5. 12.]\n",
      " [21. 32.]]\n",
      " \n",
      "Type:  <type 'numpy.ndarray'>\n",
      "Shape:  (2, 2)\n",
      "Value: \n",
      "[[ 5. 12.]\n",
      " [21. 32.]]\n",
      " \n"
     ]
    }
   ],
   "source": [
    "# elementwise product\n",
    "print_val(m1 * m2)\n",
    "print_val(np.multiply(m1,m2))"
   ]
  },
  {
   "cell_type": "code",
   "execution_count": 24,
   "metadata": {},
   "outputs": [
    {
     "name": "stdout",
     "output_type": "stream",
     "text": [
      "Type:  <type 'numpy.ndarray'>\n",
      "Shape:  (2, 2)\n",
      "Value: \n",
      "[[0.2        0.33333333]\n",
      " [0.42857143 0.5       ]]\n",
      " \n",
      "Type:  <type 'numpy.ndarray'>\n",
      "Shape:  (2, 2)\n",
      "Value: \n",
      "[[0.2        0.33333333]\n",
      " [0.42857143 0.5       ]]\n",
      " \n"
     ]
    }
   ],
   "source": [
    "# elementwise division\n",
    "print_val(m1 / m2)\n",
    "print_val(np.divide(m1,m2))"
   ]
  },
  {
   "cell_type": "code",
   "execution_count": 25,
   "metadata": {},
   "outputs": [
    {
     "name": "stdout",
     "output_type": "stream",
     "text": [
      "Type:  <type 'numpy.ndarray'>\n",
      "Shape:  (2, 2)\n",
      "Value: \n",
      "[[1.         1.41421356]\n",
      " [1.73205081 2.        ]]\n",
      " \n"
     ]
    }
   ],
   "source": [
    "# elementwise square root\n",
    "print_val(np.sqrt(m1))"
   ]
  },
  {
   "cell_type": "markdown",
   "metadata": {},
   "source": [
    "## V-V Operation"
   ]
  },
  {
   "cell_type": "code",
   "execution_count": 28,
   "metadata": {},
   "outputs": [
    {
     "name": "stdout",
     "output_type": "stream",
     "text": [
      "Type:  <type 'numpy.ndarray'>\n",
      "Shape:  (2, 2)\n",
      "Value: \n",
      "[[1 2]\n",
      " [3 4]]\n",
      " \n",
      "Type:  <type 'numpy.ndarray'>\n",
      "Shape:  (2, 2)\n",
      "Value: \n",
      "[[5 6]\n",
      " [7 8]]\n",
      " \n",
      "Type:  <type 'numpy.ndarray'>\n",
      "Shape:  (2,)\n",
      "Value: \n",
      "[ 9 10]\n",
      " \n",
      "Type:  <type 'numpy.ndarray'>\n",
      "Shape:  (2,)\n",
      "Value: \n",
      "[11 12]\n",
      " \n"
     ]
    }
   ],
   "source": [
    "m1 = np.array([[1,2],[3,4]])\n",
    "m2 = np.array([[5,6],[7,8]])\n",
    "\n",
    "v1 = np.array([9,10])\n",
    "v2 = np.array([11,12])\n",
    "\n",
    "print_val(m1)\n",
    "print_val(m2)\n",
    "print_val(v1)\n",
    "print_val(v2)"
   ]
  },
  {
   "cell_type": "code",
   "execution_count": 30,
   "metadata": {},
   "outputs": [
    {
     "name": "stdout",
     "output_type": "stream",
     "text": [
      "Type:  <type 'numpy.int64'>\n",
      "Shape:  ()\n",
      "Value: \n",
      "219\n",
      " \n",
      "Type:  <type 'numpy.int64'>\n",
      "Shape:  ()\n",
      "Value: \n",
      "219\n",
      " \n"
     ]
    }
   ],
   "source": [
    "print_val(v1.dot(v2))\n",
    "print_val(np.dot(v1,v2))"
   ]
  },
  {
   "cell_type": "markdown",
   "metadata": {},
   "source": [
    "## V-M Operation"
   ]
  },
  {
   "cell_type": "code",
   "execution_count": 31,
   "metadata": {},
   "outputs": [
    {
     "name": "stdout",
     "output_type": "stream",
     "text": [
      "Type:  <type 'numpy.ndarray'>\n",
      "Shape:  (2,)\n",
      "Value: \n",
      "[29 67]\n",
      " \n",
      "Type:  <type 'numpy.ndarray'>\n",
      "Shape:  (2,)\n",
      "Value: \n",
      "[29 67]\n",
      " \n"
     ]
    }
   ],
   "source": [
    "print_val(m1.dot(v1))\n",
    "print_val(np.dot(m1,v1))"
   ]
  },
  {
   "cell_type": "markdown",
   "metadata": {},
   "source": [
    "## M-M Operation"
   ]
  },
  {
   "cell_type": "code",
   "execution_count": 32,
   "metadata": {},
   "outputs": [
    {
     "name": "stdout",
     "output_type": "stream",
     "text": [
      "Type:  <type 'numpy.ndarray'>\n",
      "Shape:  (2, 2)\n",
      "Value: \n",
      "[[19 22]\n",
      " [43 50]]\n",
      " \n",
      "Type:  <type 'numpy.ndarray'>\n",
      "Shape:  (2, 2)\n",
      "Value: \n",
      "[[19 22]\n",
      " [43 50]]\n",
      " \n"
     ]
    }
   ],
   "source": [
    "print_val(m1.dot(m2))\n",
    "print_val(np.dot(m1,m2))"
   ]
  },
  {
   "cell_type": "markdown",
   "metadata": {},
   "source": [
    "## Transpose Matrix"
   ]
  },
  {
   "cell_type": "code",
   "execution_count": 33,
   "metadata": {},
   "outputs": [
    {
     "name": "stdout",
     "output_type": "stream",
     "text": [
      "Type:  <type 'numpy.ndarray'>\n",
      "Shape:  (2, 2)\n",
      "Value: \n",
      "[[1 2]\n",
      " [3 4]]\n",
      " \n",
      "Type:  <type 'numpy.ndarray'>\n",
      "Shape:  (2, 2)\n",
      "Value: \n",
      "[[1 3]\n",
      " [2 4]]\n",
      " \n"
     ]
    }
   ],
   "source": [
    "print_val(m1)\n",
    "print_val(m1.T)"
   ]
  },
  {
   "cell_type": "markdown",
   "metadata": {},
   "source": [
    "## Sum"
   ]
  },
  {
   "cell_type": "code",
   "execution_count": 34,
   "metadata": {},
   "outputs": [
    {
     "name": "stdout",
     "output_type": "stream",
     "text": [
      "Type:  <type 'numpy.int64'>\n",
      "Shape:  ()\n",
      "Value: \n",
      "10\n",
      " \n",
      "Type:  <type 'numpy.ndarray'>\n",
      "Shape:  (2,)\n",
      "Value: \n",
      "[4 6]\n",
      " \n",
      "Type:  <type 'numpy.ndarray'>\n",
      "Shape:  (2,)\n",
      "Value: \n",
      "[3 7]\n",
      " \n"
     ]
    }
   ],
   "source": [
    "print_val(np.sum(m1)) \n",
    "print_val(np.sum(m1, axis = 0)) # compress to row\n",
    "print_val(np.sum(m1, axis = 1)) # compress to column"
   ]
  },
  {
   "cell_type": "code",
   "execution_count": 35,
   "metadata": {},
   "outputs": [
    {
     "name": "stdout",
     "output_type": "stream",
     "text": [
      "[[1 2 3]\n",
      " [4 5 6]]\n",
      "(2, 3)\n"
     ]
    }
   ],
   "source": [
    "m1 = np.array([[1,2,3], [4,5,6]])\n",
    "print m1\n",
    "print m1.shape"
   ]
  },
  {
   "cell_type": "code",
   "execution_count": 36,
   "metadata": {},
   "outputs": [
    {
     "name": "stdout",
     "output_type": "stream",
     "text": [
      "[5 7 9]\n",
      "[11 15]\n"
     ]
    }
   ],
   "source": [
    "print np.sum(m1, axis = 0) # compres to row\n",
    "print np.sum(m2, axis = 1) # compress to column"
   ]
  },
  {
   "cell_type": "markdown",
   "metadata": {},
   "source": [
    "## Zeros-like"
   ]
  },
  {
   "cell_type": "code",
   "execution_count": 37,
   "metadata": {},
   "outputs": [
    {
     "name": "stdout",
     "output_type": "stream",
     "text": [
      "Type:  <type 'numpy.ndarray'>\n",
      "Shape:  (4, 3)\n",
      "Value: \n",
      "[[ 1  2  3]\n",
      " [ 4  5  6]\n",
      " [ 7  8  9]\n",
      " [10 11 12]]\n",
      " \n",
      "Type:  <type 'numpy.ndarray'>\n",
      "Shape:  (4, 3)\n",
      "Value: \n",
      "[[0 0 0]\n",
      " [0 0 0]\n",
      " [0 0 0]\n",
      " [0 0 0]]\n",
      " \n"
     ]
    }
   ],
   "source": [
    "m1 = np.array([[1,2,3],\n",
    "              [4,5,6],\n",
    "              [7,8,9],\n",
    "              [10,11,12]])\n",
    "m2 = np.zeros_like(m1) # same as m1: NxM size, but initialize zero \n",
    "print_val(m1)\n",
    "print_val(m2)"
   ]
  },
  {
   "cell_type": "markdown",
   "metadata": {},
   "source": [
    "# 3. Graph"
   ]
  },
  {
   "cell_type": "markdown",
   "metadata": {},
   "source": [
    "## Matplot library"
   ]
  },
  {
   "cell_type": "code",
   "execution_count": 41,
   "metadata": {},
   "outputs": [],
   "source": [
    "import matplotlib.pyplot as plt\n",
    "%matplotlib inline"
   ]
  },
  {
   "cell_type": "code",
   "execution_count": 43,
   "metadata": {},
   "outputs": [
    {
     "data": {
      "image/png": "[encoded data removed]",
      "text/plain": [
       "<Figure size 432x288 with 1 Axes>"
      ]
     },
     "metadata": {
      "needs_background": "light"
     },
     "output_type": "display_data"
    }
   ],
   "source": [
    "# sin curve\n",
    "x = np.arange(0,10,0.1) \n",
    "y = np.sin(x)\n",
    "\n",
    "plt.plot(x,y)\n",
    "plt.show()"
   ]
  },
  {
   "cell_type": "code",
   "execution_count": 45,
   "metadata": {},
   "outputs": [
    {
     "data": {
      "image/png": "[encoded data removed]",
      "text/plain": [
       "<Figure size 432x288 with 1 Axes>"
      ]
     },
     "metadata": {
      "needs_background": "light"
     },
     "output_type": "display_data"
    }
   ],
   "source": [
    "y_sin = np.sin(x)\n",
    "y_cos = np.cos(x)\n",
    "\n",
    "plt.plot(x, y_sin)\n",
    "plt.plot(x, y_cos)\n",
    "plt.xlabel('x axis label')\n",
    "plt.ylabel('y axiz label')\n",
    "plt.title('sin and cos')\n",
    "plt.legend(['sin','cos'])\n",
    "\n",
    "plt.show()"
   ]
  },
  {
   "cell_type": "markdown",
   "metadata": {},
   "source": [
    "## Subplot"
   ]
  },
  {
   "cell_type": "code",
   "execution_count": 46,
   "metadata": {},
   "outputs": [
    {
     "data": {
      "image/png": "[encoded data removed]",
      "text/plain": [
       "<Figure size 432x288 with 2 Axes>"
      ]
     },
     "metadata": {
      "needs_background": "light"
     },
     "output_type": "display_data"
    }
   ],
   "source": [
    "plt.subplot(2,1,1) # 1st in (2,1)\n",
    "plt.plot(x, y_sin)\n",
    "plt.title('Sin')\n",
    "\n",
    "plt.subplot(2,1,2)\n",
    "plt.plot(x, y_cos)\n",
    "plt.title('cos')\n",
    "\n",
    "plt.show()"
   ]
  }
 ],
 "metadata": {
  "kernelspec": {
   "display_name": "conda_pytorch_p27",
   "language": "python",
   "name": "conda_pytorch_p27"
  },
  "language_info": {
   "codemirror_mode": {
    "name": "ipython",
    "version": 2
   },
   "file_extension": ".py",
   "mimetype": "text/x-python",
   "name": "python",
   "nbconvert_exporter": "python",
   "pygments_lexer": "ipython2",
   "version": "2.7.17"
  }
 },
 "nbformat": 4,
 "nbformat_minor": 4
}
